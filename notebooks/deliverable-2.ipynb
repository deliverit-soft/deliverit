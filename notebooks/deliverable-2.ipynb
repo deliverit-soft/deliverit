{
 "cells": [
  {
   "cell_type": "markdown",
   "id": "4723bfad-9bd2-4493-aec9-eb7c82b99e5d",
   "metadata": {
    "editable": true,
    "slideshow": {
     "slide_type": ""
    },
    "tags": []
   },
   "source": [
    "# <center>ADEME Project - Group A</center>"
   ]
  },
  {
   "cell_type": "markdown",
   "id": "b8e06068-1dac-4255-baff-4d654ce52a6a",
   "metadata": {
    "editable": true,
    "slideshow": {
     "slide_type": ""
    },
    "tags": []
   },
   "source": [
    "Group A: *BESSOT Quentin*, *DENNI Raphaël*, *PINHEIRO CRUZ Matthis*, *WOLFF Julien*"
   ]
  },
  {
   "cell_type": "markdown",
   "id": "659785cc-8720-4df2-8ac9-3f9540d5a013",
   "metadata": {},
   "source": [
    "- [I. Context](#i.-context)\n",
    "- [II. Objective of the Deliverable](#ii.-objective-of-the-deliverable)\n",
    "- [III. Choice of Constraints](#iii.-choice-of-constraints)\n",
    "- [IV. Bin Packing Problem](#iv.-bin-packing-problem)\n",
    "- [V. Vehicule Routing Problem](#v.-vehicule-routing-problem)\n",
    "- [VI. Statistics](#vi.-statistics)\n",
    "- [Bibliography](#bibliography)\n",
    "- [Additional ressources](#additional-ressources)"
   ]
  },
  {
   "cell_type": "markdown",
   "id": "bf790619-4689-4708-b9df-8e63df6d71ca",
   "metadata": {},
   "source": [
    "You can find all of our codes on [Github](https://github.com/deliverit-soft/deliverit)."
   ]
  },
  {
   "cell_type": "markdown",
   "id": "9fd6de2b-f069-43e6-bcdc-2b7d02e655b4",
   "metadata": {},
   "source": [
    "## I. Context"
   ]
  },
  {
   "cell_type": "markdown",
   "id": "70b1fa0c-5aaa-4eab-91b5-5cefb58c5a37",
   "metadata": {},
   "source": [
    "The French Agency for Ecological Transition (ADEME) is seeking to experiment with new solutions to reduce greenhouse gas emissions.<br>\n",
    "\n",
    "Our company, CesiCDP, specialized in this field, responded to a call from ADEME.<br>\n",
    "\n",
    "Our company has decided to focus its study on delivery route management. The challenge of this mission is to find a series of routes that connects a set of cities while minimizing the total duration of the tours.<br>\n",
    "\n",
    "To make the situation more realistic, we will add additional constraints such as each truck having a different starting point, different sizes, variable number of trucks, variable number of packages, and various packages sizes.<br>\n",
    "\n",
    "To account for different deadlines and prepare all necessary reports, we have defined the following roadmap:<br>\n",
    "\n",
    "- Formal modeling\n",
    "- Algorithmic design and implementation\n",
    "- Experimental study\n",
    "- Presentation of the work to ADEME"
   ]
  },
  {
   "cell_type": "markdown",
   "id": "11d78a46-06e0-4fe7-a010-425742589820",
   "metadata": {},
   "source": [
    "---"
   ]
  },
  {
   "cell_type": "markdown",
   "id": "6695a0e8-b533-4e75-aab9-76c911ec7114",
   "metadata": {},
   "source": [
    "## II. Objective of the Deliverable"
   ]
  },
  {
   "cell_type": "markdown",
   "id": "2c71fa68-4037-4af6-b15e-b5a5976c41fe",
   "metadata": {},
   "source": [
    "In this deliverable, we will address the following points:<br>\n",
    "\n",
    "- Formal reformulation of the problem\n",
    "- Research on the complexity of the problem\n",
    "- Formal representation of the data\n",
    "- Defining the various constraints\n",
    "- Problem modeling\n",
    "- Describes resolution method\n",
    "- Implementing your algorithm\n",
    "- Implementing test cases\n",
    "- A demonstration of our algorithm\n",
    "- An experimental design"
   ]
  },
  {
   "cell_type": "markdown",
   "id": "1f0dc1bf-815c-474c-a2d6-a5e8dcf2808c",
   "metadata": {},
   "source": [
    "---"
   ]
  },
  {
   "cell_type": "markdown",
   "id": "7c398df1-8bc0-4cf7-81e1-396bfc25e198",
   "metadata": {},
   "source": [
    "## III. Choice of Constraints"
   ]
  },
  {
   "cell_type": "markdown",
   "id": "6411ce39-7c42-4595-a3cd-63515f337196",
   "metadata": {},
   "source": [
    "To make the situation more realistic, we will add several constraints. We have chosen the following constraints:<br>\n",
    "\n",
    "- Each truck will have a different starting point.\n",
    "- The size of the trucks.\n",
    "- The number of trucks.\n",
    "- The number of packages.\n",
    "- The size of the packages.<br>\n",
    "\n",
    "Our company has multiple warehouses, so our trucks will each have different starting points.<br>\n",
    "We need to consider the number of trucks and the size of the various trucks that our company owns.<br>\n",
    "We need to consider the number of packages that our trucks can carry and the size of the various packages."
   ]
  },
  {
   "cell_type": "markdown",
   "id": "17de2b2d-602e-4fb9-9265-6fe9b0432379",
   "metadata": {},
   "source": [
    "---"
   ]
  },
  {
   "cell_type": "markdown",
   "id": "11ef24e7-0d60-4579-bd51-1f53209c5590",
   "metadata": {},
   "source": [
    "## IV. Bin Packing Problem"
   ]
  },
  {
   "cell_type": "markdown",
   "id": "98e1423c-68d4-4c6a-96d7-43eb47fc9af8",
   "metadata": {},
   "source": [
    "One of the selected constraints of this project is to choose a number of packages that need to fit inside trucks. The packages and trucks have different size. If a truck is full, we add a new one and put the packages inside. It can be represented by a BPP (Bin Packing Problem)\n",
    "\n",
    "We'll start by writing a state of the art, then continue on the decision problem and finish on the automatization problem."
   ]
  },
  {
   "cell_type": "markdown",
   "id": "dfbcf786-6fa4-47d3-9124-6ff7a2bd70de",
   "metadata": {},
   "source": [
    "### Definition\n",
    "For $n$ a given number of packages of different size, the goal is to feat them in the minimum number of trucks."
   ]
  },
  {
   "cell_type": "markdown",
   "id": "37e6abb9-3a5c-40eb-9799-45c0fa850846",
   "metadata": {},
   "source": [
    "### Complexity\n",
    "Based on the document from https://www.lri.fr/~jcohen/documents/enseignement/binpacking.pdf, we can relate the knapsack problem to the bin-packing problem. To understand the complexity of bin-packing, we need to know the complexity of the knapsack problem. If we know the complexity of the knapsack problem, we can then determine the complexity of bin-packing since these two problems are closely related. According to the document from Wikiwand on the knapsack problem, the complexity of the knapsack problem is NP-hard. Therefore, in our case, we can approximate the complexity of the bin-packing problem as NP-hard as well."
   ]
  },
  {
   "cell_type": "markdown",
   "id": "c3126eec-4d2c-41a6-b7f5-435efea3f3d9",
   "metadata": {},
   "source": [
    "### Decision Version\n",
    "\n",
    "**Decision version :**\n",
    "\n",
    "*Given:*\n",
    "\n",
    "$n$ packages with sizes $s_1$,$s_2$,...,$s_n$. $ n\\in \\mathbf{R}$<br>\n",
    "$A$ truck capacity $C$. $n\\in \\mathbf{R}$ <br>\n",
    "$B$ the number of truck. $n\\in \\mathbf{R}$\n",
    "\n",
    "*Question:*\n",
    "\n",
    "What's the minimum B of trucks used such that the sum of the sizes of the packages in each truck does not exceed $C$ ?"
   ]
  },
  {
   "cell_type": "markdown",
   "id": "78831c78-0c89-4e54-9854-93c475dc2bad",
   "metadata": {},
   "source": [
    "### Formal statement\n",
    "We can represent our problematic with a mathematical representation.\n",
    "\n",
    "To represent the BPP, we can use Integer Linear Program written by Martello and Toth in 1990 :\n",
    "\n",
    "\\begin{equation*}\n",
    "\\begin{aligned}\n",
    "    & \\text{min} \\sum_{i=1}^{u} y_i \\\\\n",
    "    & \\text{s.t.} \\sum_{j=1}^{n} w_j x_{ij} \\leq c y_i \\quad (i = 1, \\ldots, u), \\\\\n",
    "    & \\sum_{i=1}^{u} x_{ij} = 1 \\quad (j = 1, \\ldots, n), \\\\\n",
    "    & y_i \\in \\{0, 1\\} \\quad (i = 1, \\ldots, u), \\\\\n",
    "    & x_{ij} \\in \\{0, 1\\} \\quad (i = 1, \\ldots, u; j = 1, \\ldots, n).\n",
    "\\end{aligned}\n",
    "\\end{equation*}\n",
    "\n",
    "With $n$ the number of elements, $p$ the packages, $n$ the number of packages and $c$ the trucks."
   ]
  },
  {
   "cell_type": "markdown",
   "id": "7277fcd0-db11-4e82-a5fb-8ea076cc3380",
   "metadata": {},
   "source": [
    "### Algorithm\n",
    "Since the problem is NP-Difficile, we cannot find an efficient algorithm, so we're planning to use a metaheuristic. We have chosen the First-Fit Decreasing which consist in the first place to sort in ascending order the packages and then to look if there is enough place in each truck to see if there is enough space, if not a new truck is created.\n",
    "\n",
    "<pre>\n",
    "for All objects i = 1, 2, . . . , n do \n",
    "    for All bins j = 1, 2, . . . do \n",
    "        if Object is in bin j then\n",
    "            Pack object i in bin j.\n",
    "            Break the loop and pack the next object.\n",
    "        end if\n",
    "    end for\n",
    "    if Object i did not fit in any available bin then\n",
    "        Create new bin and pack object i.\n",
    "    end if\n",
    "end for\n",
    "</pre>"
   ]
  },
  {
   "cell_type": "markdown",
   "id": "10ab0b33-f4e0-49bf-b557-b2a5bc9686cc",
   "metadata": {},
   "source": [
    "I've used this algorithm as a base for our algorithm, with several changes to insert it with the front and the statistical test.\n",
    "\n",
    "<pre>\n",
    "    Algorithm PlacePackagesInTruck(trucks, packages)\n",
    "\n",
    "    Sort packages by volume in descending order\n",
    "    Sort trucks by volume in ascending order\n",
    "\n",
    "    Initialize PackageInFleet as an empty list\n",
    "    Initialize TruckFleet as an empty list\n",
    "\n",
    "    For each package in packages\n",
    "        Initialize placed as False\n",
    "        Get the shape of the current package\n",
    "\n",
    "        While not placed\n",
    "            For each truck in TruckFleet\n",
    "                For each cell in the truck\n",
    "                    If the package can fit in the current position and cells are empty\n",
    "                        Place the package in the truck\n",
    "                        Mark placed as True\n",
    "                        Increment the package count in PackageInFleet for this truck\n",
    "                        Break the loop if the package is placed\n",
    "                If placed, break the loop\n",
    "\n",
    "            If not placed and trucks is not empty\n",
    "                For each truck type in trucks\n",
    "                    If the truck has enough empty space for the package\n",
    "                        Add the truck to TruckFleet\n",
    "                        Initialize the package count for the truck in PackageInFleet\n",
    "                        Break the loop once the truck is added\n",
    "\n",
    "            If still not placed\n",
    "                Mark placed as True (indicating failure to place the package)\n",
    "\n",
    "    Return the number of trucks used, TruckFleet, total packages placed, and PackageInFleet\n",
    "</pre>"
   ]
  },
  {
   "cell_type": "markdown",
   "id": "47f77f83-4feb-458c-8b82-c47f049833eb",
   "metadata": {},
   "source": [
    "---"
   ]
  },
  {
   "cell_type": "markdown",
   "id": "e60c0eb6-6080-44cc-9f3d-c4f18ca368a1",
   "metadata": {},
   "source": [
    "## V. Vehicule Routing Problem"
   ]
  },
  {
   "cell_type": "markdown",
   "id": "891fb894-595f-4cc8-908c-9016db9b5b51",
   "metadata": {},
   "source": [
    "For this project, we need to deliver a variable number of packets from a strating point to several cities.\n",
    "To solve this problem, we choosed the VRP (Vehicule Routing Problem), which is a generalization of the TSP problem applied to vehicules fleets that need to deliver packages."
   ]
  },
  {
   "cell_type": "markdown",
   "id": "3ded1023-b469-4b8b-a97c-e4cd579c9de0",
   "metadata": {},
   "source": [
    "### Definition"
   ]
  },
  {
   "cell_type": "markdown",
   "id": "05a75610-3085-46f1-8598-f090c2c2c09b",
   "metadata": {},
   "source": [
    "For a given number of $n$ points, the goal is to finds loops that pass through these points as such that the sum of their length is minimal. \n",
    "There can be many loops as needed, and all of them start from the same point.\n",
    "With a minimal set of $n$, it is called the \"Clover Leaf Problem\", which consider clusters of points to solve the problem."
   ]
  },
  {
   "cell_type": "markdown",
   "id": "b54e7905-6905-43ec-8c15-d668c11085eb",
   "metadata": {},
   "source": [
    "### Metaheuristic solution"
   ]
  },
  {
   "cell_type": "markdown",
   "id": "1de1dc69-fc84-4a5a-9da4-3935b406f88b",
   "metadata": {},
   "source": [
    "Metaheuristics resolution are independent from the problem that they solve. They are generic and can be adapted. Another goal is to escpape from local optimal solution to find real better values."
   ]
  },
  {
   "cell_type": "markdown",
   "id": "881c7c9f-6fd7-47f2-bc45-2bebd7ba6a1a",
   "metadata": {},
   "source": [
    "### Decision and optimisation problem"
   ]
  },
  {
   "cell_type": "markdown",
   "id": "7bc2a979-cadd-49f6-8d94-f3df816f8b27",
   "metadata": {},
   "source": [
    "#### Decision"
   ]
  },
  {
   "cell_type": "markdown",
   "id": "85b34185-ff1a-4131-8584-aa7dd5516325",
   "metadata": {},
   "source": [
    "Data : $n$ cities, $o$ trucks"
   ]
  },
  {
   "cell_type": "markdown",
   "id": "5b34771c-40b1-45d5-aa84-0467b7db656f",
   "metadata": {},
   "source": [
    "Question : Is it possible to pass through each city just once?"
   ]
  },
  {
   "cell_type": "markdown",
   "id": "bf1cfa35-b3a3-4c07-8b7e-bd84ccd49a80",
   "metadata": {},
   "source": [
    "#### Optimisation"
   ]
  },
  {
   "cell_type": "markdown",
   "id": "19a89654-dc0e-40ab-a71d-f50759b94f0d",
   "metadata": {},
   "source": [
    "Data : $n$ cities, $o$ trucks, $k$ loop length limit"
   ]
  },
  {
   "cell_type": "markdown",
   "id": "f183251b-6a85-4a0a-8e55-75e62a72494a",
   "metadata": {},
   "source": [
    "Question : Is it possible to create as many loops as required without the sum of their lengths exceeding $k$?"
   ]
  },
  {
   "cell_type": "markdown",
   "id": "a7ed6779-0c13-4e39-aaba-11da75a12d2e",
   "metadata": {},
   "source": [
    "## Mathematics modelisation"
   ]
  },
  {
   "cell_type": "markdown",
   "id": "95543258-8e2f-4e5d-80f2-e2b10cc1bb74",
   "metadata": {},
   "source": [
    "For the modelisation of the Vehicule Routing Problem, we can use the expression of C.-Y. Liong in his paper \"Vehicle routing problem: Models and solutions\""
   ]
  },
  {
   "cell_type": "markdown",
   "id": "5de7cd78-0a71-4fb9-b648-5636bdad497f",
   "metadata": {},
   "source": [
    "\\begin{align*}\n",
    "    Min &\\sum_{i \\ne j} d_{ij} x_{ij}  \\\\\n",
    "    &\\sum_{j} x_{ij} = 1, \\quad \\forall i \\in V,\\\\\n",
    "    &\\sum_{i} x_{ij} = 1, \\quad \\forall j \\in V,\\\\\n",
    "    &\\sum_{i} x_{ij} \\geq |S| - v(S), \\quad \\{S : S \\subseteq V \\setminus \\{1\\}, |S| \\geq 2 \\}, \\\\\n",
    "    &x_{ij} \\in \\{0,1\\}, \\quad \\forall \\{i,j\\} \\in E; \\; i \\neq j\n",
    "\\end{align*}"
   ]
  },
  {
   "cell_type": "markdown",
   "id": "c4ef955d-4212-4a3f-9eec-03ee43de4cca",
   "metadata": {},
   "source": [
    "### Variables :\n",
    "$ d_{ij} $ Distance (or cost) of traveling from point 𝑖 to point j. <br>\n",
    "$ x_{ij} $ Binary variable that is 1 if a vehicle travels from i to j, and 0 otherwise.\n",
    "\n",
    "### Constraints\n",
    "- $ \\sum_{j} x_{ij} = 1, \\quad \\forall i \\in V $ : For each customer i, there is exactly one trip leaving i to another point j.\n",
    "\n",
    "- $ \\sum_{i} x_{ij} = 1, \\quad \\forall i \\in V $ : For each customer j, there is exactly one trip arriving from point i to j\n",
    "\n",
    "- $ \\sum_{i} x_{ij} \\geq |S| - v(S), \\quad \\{S : S \\subseteq V \\setminus \\{1\\}, |S| \\geq 2 $ : This constraint ensures that every subset of customers S is connected in a way that does not form separate subtours. v(S) represents the number of vehicles serving the subset S. This constraint is crucial to guarantee the global connectivity of the route and to prevent vehicles from moving in closed cycles without returning to the depot.\n",
    "\n",
    "- $ x_{ij} \\in \\{0,1\\}, \\quad \\forall \\{i,j\\} \\in E; \\; i \\neq j $ : $ x_{ij} $ is a binary variable indicating whether a vehicle travels from i to j (1) or not (0). E is the set of edges (or possible routes) between points."
   ]
  },
  {
   "cell_type": "markdown",
   "id": "fde7a7f6-2ef2-42c9-afb7-40360e966513",
   "metadata": {},
   "source": [
    "See the pseudo-code to code the metaheuristic of the taboo method : \n",
    "\n",
    "<pre>\n",
    "    Import Libraries\n",
    "\n",
    "Define Class VehiculeRoutingProblem\n",
    "    Attributes: distance_matrix, num_vehicles, parcels_per_vehicle, start_points, num_locations, solution, best_solution, best_cost, num_parcels\n",
    "\n",
    "    Constructor __init__\n",
    "        Initialize attributes\n",
    "        Set num_locations\n",
    "        Initialize solution\n",
    "        Set best_solution\n",
    "        Evaluate initial solution cost\n",
    "\n",
    "    Method _initialize_solution\n",
    "        Create empty solutions\n",
    "        For each vehicle\n",
    "            Prompt user for drop-off cities\n",
    "            Validate and add cities to route\n",
    "            Complete route by returning to start point\n",
    "        Return solutions\n",
    "\n",
    "    Method evaluate\n",
    "        Initialize total_distance\n",
    "        For each route in solutions\n",
    "            Compute route distance\n",
    "        Return total_distance\n",
    "\n",
    "    Method get_neighbors\n",
    "        Initialize neighbors list\n",
    "        For each vehicle's route\n",
    "            Generate neighbors by swapping locations\n",
    "        Return neighbors\n",
    "\n",
    "Define Function tabu_search\n",
    "    Initialize tabu_list, best_solution, best_cost\n",
    "    For max_iterations\n",
    "        Generate neighbors of current solution\n",
    "        Evaluate and select best non-tabu neighbor\n",
    "        Update best_solution and best_cost if better neighbor found\n",
    "        Update current solution\n",
    "        Add current solution to tabu_list\n",
    "        Ensure tabu_list size <= tabu_tenure\n",
    "    Return best_solution, best_cost\n",
    "\n",
    "Define Function get_start_points\n",
    "    Initialize start_points\n",
    "    For each vehicle\n",
    "        Prompt user for start point\n",
    "        Validate input\n",
    "        Add start point to list\n",
    "    Return start_points\n",
    "\n",
    "Main Execution Block\n",
    "    Load distance matrix from CSV\n",
    "    Convert to numpy array\n",
    "    Display distance matrix\n",
    "    Set parameters for trucks and parcels\n",
    "    Get start points from user\n",
    "    Initialize VRP\n",
    "    Run tabu_search\n",
    "    Measure and display execution time\n",
    "    Display best solution, cost, and number of parcels per vehicle\n",
    "\n",
    "</pre>"
   ]
  },
  {
   "cell_type": "markdown",
   "id": "3faf9de1-13a1-4696-9db6-72c9246e984c",
   "metadata": {},
   "source": [
    "---"
   ]
  },
  {
   "cell_type": "markdown",
   "id": "e4f2c094-0ed4-4b5b-9933-78c220e6935e",
   "metadata": {},
   "source": [
    "## VI. Statistics"
   ]
  },
  {
   "cell_type": "markdown",
   "id": "201d77e9-561e-450d-8228-34520864152d",
   "metadata": {},
   "source": [
    "### Tabu search\n",
    "\n",
    "Experiment plan :\n",
    "\n",
    "For each instance, we generate a solution by setting the maximal size of the tabu list and the number of iterations of the algorithm.\n",
    "The variation for the size goes by 50, 100, 200, 500 and 1000, and the iterations 100 and 1000. \n",
    "For this experiment, we have a matrix containing 3000 cities with their distances."
   ]
  },
  {
   "attachments": {
    "e4f30137-1f74-4ebd-9093-77b40a99c3be.png": {
     "image/png": "[encoded data removed]"
    }
   },
   "cell_type": "markdown",
   "id": "cc67645c-8617-4d27-93ac-a85676857feb",
   "metadata": {},
   "source": [
    "#### Tabu search cost by time\n",
    "\n",
    "![output.png](attachment:e4f30137-1f74-4ebd-9093-77b40a99c3be.png)\n",
    "\n",
    "Interpretation :\n",
    "\n",
    "As we can see, there are two zones of repartition. We can have a low cost, but it will take time, and vice versa. \n",
    "It will be useful to our work by helping us to balance between these two considerations, which are time and cost.\n",
    "We have one instance, the yellowish one, with a size of 1000 and 100 iterations and it has a low cost and time. \n",
    "It certainly is an anomaly because it is quite unusual to have this situation, especially with what we observe with the other results."
   ]
  },
  {
   "cell_type": "markdown",
   "id": "a07ed68f-6cff-4fe5-9b98-b5430eab3ccd",
   "metadata": {},
   "source": [
    "### Bin Packing\n",
    "\n",
    "Experiment plan :\n",
    "\n",
    "For each instance, we generate a solution by setting the maximal number of trucks and packages.\n",
    "The maximal number of trucks goes by 50, 100, 200, 500 and 1000, and the packages 100 and 1000.\n",
    "Each truck is randomly generated and have a minimum size of 2 and a maximal one of 10.\n",
    "Each package is randomly generated and have a minimum size of 1 and a maximal one of 5."
   ]
  },
  {
   "attachments": {
    "71ae028c-a8a0-4a57-9664-54434fadd762.png": {
     "image/png": "[encoded data removed]"
    }
   },
   "cell_type": "markdown",
   "id": "88f92932-4231-48a8-92dc-f660e6aec9f8",
   "metadata": {},
   "source": [
    "#### Number of used trucks by time\n",
    "![output1.png](attachment:71ae028c-a8a0-4a57-9664-54434fadd762.png)\n",
    "\n",
    "Interpretation :\n",
    "\n",
    "The number of trucks used and the time it takes to calculate the value is quite linear, with a little anomaly. \n",
    "This result is expected. \n",
    "We will certainly need to optimize our algorithm to reduce the calculation time for bigger instances."
   ]
  },
  {
   "attachments": {
    "336378d4-c7e5-49ef-8446-8b5d01921802.png": {
     "image/png": "[encoded data removed]"
    }
   },
   "cell_type": "markdown",
   "id": "e74b219c-d773-4a50-a0b4-30ba62985472",
   "metadata": {},
   "source": [
    "#### Number of placed packages by time\n",
    "![output2.png](attachment:336378d4-c7e5-49ef-8446-8b5d01921802.png)\n",
    "\n",
    "Interpretation :\n",
    "\n",
    "The number of placed packages and the time it takes to calculate the value is quite linear, with a little anomaly. \n",
    "This result is expected. \n",
    "We will certainly need to optimize our algorithm to reduce the calculation time for bigger instances."
   ]
  },
  {
   "cell_type": "markdown",
   "id": "844d54b0-af83-4928-bfc1-66fb00a995c0",
   "metadata": {},
   "source": [
    "---"
   ]
  },
  {
   "cell_type": "markdown",
   "id": "4bd5cbc2-e658-4bbc-9739-a203380a589a",
   "metadata": {},
   "source": [
    "## Bibliography :\n",
    "- Chazelle. (1983). The bottomn-left bin-packing heuristic: An efficient implementation. IEEE Transactions on Computers, 100(8), 697-707.\n",
    "- Ekici, A. (2021). Bin packing problem with conflicts and item fragmentation. Computers & Operations Research, 126, 105113.\n",
    "- Zirour, M. (2008). Vehicle routing problem: models and solutions. Journal of Quality Measurement and Analysis JQMA, 4(1), 205-218.\n",
    "- El Hayek, J. (2006). Le problème de bin-packing en deux-dimensions, le cas non-orienté: résolution approchée et bornes inférieures (Doctoral dissertation, Université de Technologie de Compiègne).\n",
    "- DANTZIG, G. B., [The Truck Dispatching Problem](https://raw.githubusercontent.com/aishfenton/thesis/master/papers/The%20Truck%20Dispatching%20Problem.pdf) [[archive](https://web.archive.org/web/20220120143840/https://raw.githubusercontent.com/aishfenton/thesis/master/papers/The%20Truck%20Dispatching%20Problem.pdf)], 1959\n",
    "- LABADIE, N., [Metaheuristics for Vehicule Routing Problems](https://books.google.fr/books?id=sDXvCQAAQBAJ&printsec=frontcover&redir_esc=y#v=onepage&q&f=false), 2016"
   ]
  },
  {
   "cell_type": "markdown",
   "id": "834fd21d-ce42-4210-9a87-2ea98c8009da",
   "metadata": {},
   "source": [
    "## Additional ressources\n",
    "- Problème du sac à dos, Wikiland\n",
    "- Cohen J. Le problème du Bin Packing (remplissage de sacs)\n",
    "- Goodrich, Bin Packing"
   ]
  }
 ],
 "metadata": {
  "kernelspec": {
   "display_name": "Python 3 (ipykernel)",
   "language": "python",
   "name": "python3"
  },
  "language_info": {
   "codemirror_mode": {
    "name": "ipython",
    "version": 3
   },
   "file_extension": ".py",
   "mimetype": "text/x-python",
   "name": "python",
   "nbconvert_exporter": "python",
   "pygments_lexer": "ipython3",
   "version": "3.11.9"
  },
  "widgets": {
   "application/vnd.jupyter.widget-state+json": {
    "state": {},
    "version_major": 2,
    "version_minor": 0
   }
  }
 },
 "nbformat": 4,
 "nbformat_minor": 5
}
