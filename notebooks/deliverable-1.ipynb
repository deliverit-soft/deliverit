{
 "cells": [
  {
   "cell_type": "markdown",
   "id": "4723bfad-9bd2-4493-aec9-eb7c82b99e5d",
   "metadata": {
    "editable": true,
    "slideshow": {
     "slide_type": ""
    },
    "tags": []
   },
   "source": [
    "# <center>Deliverable 1 - ADEME Project </center>"
   ]
  },
  {
   "cell_type": "markdown",
   "id": "b8e06068-1dac-4255-baff-4d654ce52a6a",
   "metadata": {
    "editable": true,
    "slideshow": {
     "slide_type": ""
    },
    "tags": []
   },
   "source": [
    "Group A: *BESSOT Quentin*, *DENNI Raphaël*, *PINHEIRO CRUZ Matthis*, *WOLFF Julien*"
   ]
  },
  {
   "cell_type": "markdown",
   "id": "9fd6de2b-f069-43e6-bcdc-2b7d02e655b4",
   "metadata": {},
   "source": [
    "## I. Context"
   ]
  },
  {
   "cell_type": "markdown",
   "id": "70b1fa0c-5aaa-4eab-91b5-5cefb58c5a37",
   "metadata": {},
   "source": [
    "The French Agency for Ecological Transition (ADEME) is seeking to experiment with new solutions to reduce greenhouse gas emissions.<br>\n",
    "\n",
    "Our company, CesiCDP, specialized in this field, responded to a call from ADEME.<br>\n",
    "\n",
    "Our company has decided to focus its study on delivery route management. The challenge of this mission is to find a series of routes that connects a set of cities while minimizing the total duration of the tours.<br>\n",
    "\n",
    "To make the situation more realistic, we will add additional constraints such as each truck having a different starting point, different sizes, variable number of trucks, variable number of packages, and various packages sizes.<br>\n",
    "\n",
    "To account for different deadlines and prepare all necessary reports, we have defined the following roadmap:<br>\n",
    "\n",
    "- Formal modeling\n",
    "- Algorithmic design and implementation\n",
    "- Experimental study\n",
    "- Presentation of the work to ADEME"
   ]
  },
  {
   "cell_type": "markdown",
   "id": "6695a0e8-b533-4e75-aab9-76c911ec7114",
   "metadata": {},
   "source": [
    "## II. Objective of the Deliverable"
   ]
  },
  {
   "cell_type": "markdown",
   "id": "2c71fa68-4037-4af6-b15e-b5a5976c41fe",
   "metadata": {},
   "source": [
    "In this deliverable, we will address the following points:<br>\n",
    "\n",
    "- Formal reformulation of the problem\n",
    "- Research on the complexity of the problem\n",
    "- Formal representation of the data\n",
    "- Defining the various constraints\n",
    "- Problem modeling"
   ]
  },
  {
   "cell_type": "markdown",
   "id": "7c398df1-8bc0-4cf7-81e1-396bfc25e198",
   "metadata": {},
   "source": [
    "## III. Choice of Constraints"
   ]
  },
  {
   "cell_type": "markdown",
   "id": "6411ce39-7c42-4595-a3cd-63515f337196",
   "metadata": {},
   "source": [
    "To make the situation more realistic, we will add several constraints. We have chosen the following constraints:<br>\n",
    "\n",
    "- Each truck will have a different starting point.\n",
    "- The size of the trucks.\n",
    "- The number of trucks.\n",
    "- The number of packages.\n",
    "- The size of the packages.<br>\n",
    "\n",
    "Our company has multiple warehouses, so our trucks will each have different starting points.<br>\n",
    "We need to consider the number of trucks and the size of the various trucks that our company owns.<br>\n",
    "We need to consider the number of packages that our trucks can carry and the size of the various packages."
   ]
  },
  {
   "cell_type": "markdown",
   "id": "17de2b2d-602e-4fb9-9265-6fe9b0432379",
   "metadata": {},
   "source": [
    "---"
   ]
  },
  {
   "cell_type": "markdown",
   "id": "11ef24e7-0d60-4579-bd51-1f53209c5590",
   "metadata": {},
   "source": [
    "## IV. Bin Packing Problem"
   ]
  },
  {
   "cell_type": "markdown",
   "id": "98e1423c-68d4-4c6a-96d7-43eb47fc9af8",
   "metadata": {},
   "source": [
    "One of the selected constraints of this project is to choose a number of packages that need to fit inside trucks. The packages and trucks have different size. If a truck is full, we add a new one and put the packages inside. It can be represented by a BPP (Bin Packing Problem)\n",
    "\n",
    "We'll start by writing a state of the art, then continue on the decision problem and finish on the automatization problem."
   ]
  },
  {
   "cell_type": "markdown",
   "id": "da563a0a-cd9d-4aa0-ad83-3f77fa3fa907",
   "metadata": {},
   "source": [
    "---"
   ]
  },
  {
   "cell_type": "markdown",
   "id": "dfbcf786-6fa4-47d3-9124-6ff7a2bd70de",
   "metadata": {},
   "source": [
    "### Definition\n",
    "For $n$ a given number of packages of different size, the goal is to feat them in the minimum number of trucks."
   ]
  },
  {
   "cell_type": "markdown",
   "id": "37e6abb9-3a5c-40eb-9799-45c0fa850846",
   "metadata": {},
   "source": [
    "### Complexity\n",
    "Based on the document from https://www.lri.fr/~jcohen/documents/enseignement/binpacking.pdf, we can relate the knapsack problem to the bin-packing problem. To understand the complexity of bin-packing, we need to know the complexity of the knapsack problem. If we know the complexity of the knapsack problem, we can then determine the complexity of bin-packing since these two problems are closely related. According to the document from Wikiwand on the knapsack problem, the complexity of the knapsack problem is NP-hard. Therefore, in our case, we can approximate the complexity of the bin-packing problem as NP-hard as well."
   ]
  },
  {
   "cell_type": "markdown",
   "id": "c3126eec-4d2c-41a6-b7f5-435efea3f3d9",
   "metadata": {},
   "source": [
    "### Decision Version\n",
    "\n",
    "**Decision version :**\n",
    "\n",
    "*Given:*\n",
    "\n",
    "$n$ packages with sizes $s_1$,$s_2$,...,$s_n$. $ n\\in \\mathbf{R}$<br>\n",
    "$A$ truck capacity $C$. $n\\in \\mathbf{R}$ <br>\n",
    "$B$ the number of truck. $n\\in \\mathbf{R}$\n",
    "\n",
    "*Question:*\n",
    "\n",
    "What's the minimum B of trucks used such that the sum of the sizes of the packages in each truck does not exceed $C$ ?"
   ]
  },
  {
   "cell_type": "markdown",
   "id": "78831c78-0c89-4e54-9854-93c475dc2bad",
   "metadata": {},
   "source": [
    "### Formal statement\n",
    "We can represent our problematic with a mathematical representation.\n",
    "\n",
    "To represent the BPP, we can use Integer Linear Program written by Martello and Toth in 1990\n",
    "\n",
    "*\\begin{equation}\n",
    "Min \\sum^{n}_{i=1}y_i \\end{equation}*\n",
    "\n",
    "*\\begin{equation}\n",
    "\\sum^{n}_{j=1}w_j x_{ij} \\leq cy_i\n",
    "\\end{equation}*\n",
    "\n",
    "*\\begin{equation}\n",
    "\\sum^{u}_{i=1}x_{ij} = 1\n",
    "\\end{equation}*\n",
    "\n",
    "*\\begin{equation}\n",
    "y_j \\in \\{0,1\\}\n",
    "\\end{equation}*\n",
    "\n",
    "*\\begin{equation}\n",
    "y_{ij} \\in \\{0,1\\}\n",
    "\\end{equation}*\n",
    "\n",
    "*\\begin{equation}\n",
    "i \\in \\{1,...,n\\}\n",
    "\\end{equation}*\n",
    "\n",
    "*\\begin{equation}\n",
    "j \\in \\{1,...,n\\}\n",
    "\\end{equation}*\n"
   ]
  },
  {
   "cell_type": "markdown",
   "id": "7277fcd0-db11-4e82-a5fb-8ea076cc3380",
   "metadata": {},
   "source": [
    "### Algorithm\n",
    "Since the problem is NP-Difficile, we cannot find an efficient algorithm, so we're planning to use a metaheuristic. We have chosen the First-Fit Decreasing which consist in the first place to sort in ascending order the packages and then to look if there is enough place in each truck to see if there is enough space, if not a new truck is created.\n",
    "\n",
    "<pre>\n",
    "for All objects i = 1, 2, . . . , n do \n",
    "    for All bins j = 1, 2, . . . do \n",
    "        if Object is in bin j then\n",
    "            Pack object i in bin j.\n",
    "            Break the loop and pack the next object.\n",
    "        end if\n",
    "    end for\n",
    "    if Object i did not fit in any available bin then\n",
    "        Create new bin and pack object i.\n",
    "    end if\n",
    "end for\n",
    "</pre>"
   ]
  },
  {
   "cell_type": "markdown",
   "id": "47f77f83-4feb-458c-8b82-c47f049833eb",
   "metadata": {},
   "source": [
    "---"
   ]
  },
  {
   "cell_type": "markdown",
   "id": "e60c0eb6-6080-44cc-9f3d-c4f18ca368a1",
   "metadata": {},
   "source": [
    "## V. Vehicule Routing Problem"
   ]
  },
  {
   "cell_type": "markdown",
   "id": "891fb894-595f-4cc8-908c-9016db9b5b51",
   "metadata": {},
   "source": [
    "For this project, we need to deliver a variable number of packets from a strating point to several cities.\n",
    "To solve this problem, we choosed the VRP (Vehicule Routing Problem), which is a generalization of the TSP problem applied to vehicules fleets that need to deliver packages."
   ]
  },
  {
   "cell_type": "markdown",
   "id": "ab170f2d-5a27-42cc-a6f7-26a5676a1e42",
   "metadata": {},
   "source": [
    "---"
   ]
  },
  {
   "cell_type": "markdown",
   "id": "3ded1023-b469-4b8b-a97c-e4cd579c9de0",
   "metadata": {},
   "source": [
    "### Definition"
   ]
  },
  {
   "cell_type": "markdown",
   "id": "05a75610-3085-46f1-8598-f090c2c2c09b",
   "metadata": {},
   "source": [
    "For a given number of $n$ points, the goal is to finds loops that pass through these points as such that the sum of their length is minimal. \n",
    "There can be many loops as needed, and all of them start from the same point.\n",
    "With a minimal set of $n$, it is called the \"Clover Leaf Problem\", which consider clusters of points to solve the problem."
   ]
  },
  {
   "cell_type": "markdown",
   "id": "b54e7905-6905-43ec-8c15-d668c11085eb",
   "metadata": {},
   "source": [
    "### Metaheuristic solution"
   ]
  },
  {
   "cell_type": "markdown",
   "id": "1de1dc69-fc84-4a5a-9da4-3935b406f88b",
   "metadata": {},
   "source": [
    "Metaheuristics resolution are independent from the problem that they solve. They are generic and can be adapted. Another goal is to escpape from local optimal solution to find real better values."
   ]
  },
  {
   "cell_type": "markdown",
   "id": "b42738a1-f20b-4fd7-b08d-50112112ee25",
   "metadata": {},
   "source": [
    "---"
   ]
  },
  {
   "cell_type": "markdown",
   "id": "881c7c9f-6fd7-47f2-bc45-2bebd7ba6a1a",
   "metadata": {},
   "source": [
    "### Decision and optimisation problem"
   ]
  },
  {
   "cell_type": "markdown",
   "id": "7bc2a979-cadd-49f6-8d94-f3df816f8b27",
   "metadata": {},
   "source": [
    "#### Decision"
   ]
  },
  {
   "cell_type": "markdown",
   "id": "85b34185-ff1a-4131-8584-aa7dd5516325",
   "metadata": {},
   "source": [
    "Data : $n$ cities, $o$ trucks"
   ]
  },
  {
   "cell_type": "markdown",
   "id": "5b34771c-40b1-45d5-aa84-0467b7db656f",
   "metadata": {},
   "source": [
    "Question : Is it possible to pass through each city just once?"
   ]
  },
  {
   "cell_type": "markdown",
   "id": "bf1cfa35-b3a3-4c07-8b7e-bd84ccd49a80",
   "metadata": {},
   "source": [
    "#### Optimisation"
   ]
  },
  {
   "cell_type": "markdown",
   "id": "19a89654-dc0e-40ab-a71d-f50759b94f0d",
   "metadata": {},
   "source": [
    "Data : $n$ cities, $o$ trucks, $k$ loop length limit"
   ]
  },
  {
   "cell_type": "markdown",
   "id": "f183251b-6a85-4a0a-8e55-75e62a72494a",
   "metadata": {},
   "source": [
    "Question : Is it possible to create as many loops as required without the sum of their lengths exceeding $k$?"
   ]
  },
  {
   "cell_type": "markdown",
   "id": "3faf9de1-13a1-4696-9db6-72c9246e984c",
   "metadata": {},
   "source": [
    "---"
   ]
  },
  {
   "cell_type": "markdown",
   "id": "4bd5cbc2-e658-4bbc-9739-a203380a589a",
   "metadata": {},
   "source": [
    "## Bibliography :\n",
    "- Chazelle. (1983). The bottomn-left bin-packing heuristic: An efficient implementation. IEEE Transactions on Computers, 100(8), 697-707.\n",
    "- Ekici, A. (2021). Bin packing problem with conflicts and item fragmentation. Computers & Operations Research, 126, 105113.\n",
    "- El Hayek, J. (2006). Le problème de bin-packing en deux-dimensions, le cas non-orienté: résolution approchée et bornes inférieures (Doctoral dissertation, Université de Technologie de Compiègne).\n",
    "- DANTZIG, G. B., [The Truck Dispatching Problem](https://raw.githubusercontent.com/aishfenton/thesis/master/papers/The%20Truck%20Dispatching%20Problem.pdf) [[archive](https://web.archive.org/web/20220120143840/https://raw.githubusercontent.com/aishfenton/thesis/master/papers/The%20Truck%20Dispatching%20Problem.pdf)], 1959\n",
    "- LABADIE, N., [Metaheuristics for Vehicule Routing Problems](https://books.google.fr/books?id=sDXvCQAAQBAJ&printsec=frontcover&redir_esc=y#v=onepage&q&f=false), 2016"
   ]
  },
  {
   "cell_type": "markdown",
   "id": "834fd21d-ce42-4210-9a87-2ea98c8009da",
   "metadata": {},
   "source": [
    "## Additional ressources\n",
    "- Problème du sac à dos, Wikiland\n",
    "- Cohen J. Le problème du Bin Packing (remplissage de sacs)\n",
    "- Goodrich, Bin Packing"
   ]
  }
 ],
 "metadata": {
  "kernelspec": {
   "display_name": "Python 3 (ipykernel)",
   "language": "python",
   "name": "python3"
  },
  "language_info": {
   "codemirror_mode": {
    "name": "ipython",
    "version": 3
   },
   "file_extension": ".py",
   "mimetype": "text/x-python",
   "name": "python",
   "nbconvert_exporter": "python",
   "pygments_lexer": "ipython3",
   "version": "3.11.9"
  }
 },
 "nbformat": 4,
 "nbformat_minor": 5
}
